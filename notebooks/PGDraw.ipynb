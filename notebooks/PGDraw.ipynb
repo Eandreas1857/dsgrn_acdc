{
 "cells": [
  {
   "cell_type": "markdown",
   "metadata": {},
   "source": [
    "# Making Parameter Graphs using PGDraw.py"
   ]
  },
  {
   "cell_type": "markdown",
   "metadata": {},
   "source": [
    "If PGDraw.py is saved in the same directory you are working in, then importing `sys` and `sys.path.insert()` is not required. However, if it is not in the same directory, then change `/home/elizabeth/Desktop/GIT/dsgrn_acdc/src` to the current folder containing `PGDraw.py`."
   ]
  },
  {
   "cell_type": "code",
   "execution_count": 1,
   "metadata": {},
   "outputs": [],
   "source": [
    "import DSGRN\n",
    "from DSGRN import *\n",
    "import sys\n",
    "sys.path.insert(0,'/home/elizabeth/Desktop/GIT/dsgrn_acdc/src')\n",
    "from PGDraw import *"
   ]
  },
  {
   "cell_type": "markdown",
   "metadata": {},
   "source": [
    "Now we need to import a database and the associated network of interest. Again, be sure to change where the database and networks are stored on your computer."
   ]
  },
  {
   "cell_type": "code",
   "execution_count": 8,
   "metadata": {},
   "outputs": [],
   "source": [
    "database = Database(\"/home/elizabeth/Desktop/ACDC/TFPYI_test.db\") \n",
    "network = Network(\"/home/elizabeth/Desktop/ACDC/TFPYI_test\") "
   ]
  },
  {
   "cell_type": "code",
   "execution_count": 11,
   "metadata": {},
   "outputs": [
    {
     "data": {
      "image/svg+xml": [
       "PGGraph.png"
      ],
      "text/plain": [
       "<__main__.PGGraph at 0x7fda2829e050>"
      ]
     },
     "execution_count": 11,
     "metadata": {},
     "output_type": "execute_result"
    }
   ],
   "source": [
    "PGGraph(database, network)"
   ]
  },
  {
   "cell_type": "markdown",
   "metadata": {},
   "source": [
    "Notice how each node has a lable of (a,b), \"a\" is the parameter graph index and \"b\" is the associated morse graph index."
   ]
  }
 ],
 "metadata": {
  "kernelspec": {
   "display_name": "Python 3",
   "language": "python",
   "name": "python3"
  },
  "language_info": {
   "codemirror_mode": {
    "name": "ipython",
    "version": 3
   },
   "file_extension": ".py",
   "mimetype": "text/x-python",
   "name": "python",
   "nbconvert_exporter": "python",
   "pygments_lexer": "ipython3",
   "version": "3.7.6"
  }
 },
 "nbformat": 4,
 "nbformat_minor": 4
}
