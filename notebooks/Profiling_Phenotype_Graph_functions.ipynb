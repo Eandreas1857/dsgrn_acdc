{
 "cells": [
  {
   "cell_type": "code",
   "execution_count": 1,
   "metadata": {},
   "outputs": [],
   "source": [
    "import DSGRN\n",
    "from DSGRN import *\n",
    "import cProfile\n",
    "import sys\n",
    "sys.setrecursionlimit(10**8)\n",
    "sys.path.insert(0,'/home/elizabeth/Desktop/GIT/dsgrn_acdc/src')\n",
    "\n",
    "from PhenotypeGraphviz import *\n",
    "from PhenotypeGraphFun import *\n",
    "from ReducePhenotypeGraph import *"
   ]
  },
  {
   "cell_type": "code",
   "execution_count": 2,
   "metadata": {},
   "outputs": [],
   "source": [
    "database = Database(\"/home/elizabeth/Desktop/ACDC/ACDC_FullconnE.db\") \n",
    "network = Network(\"/home/elizabeth/Desktop/ACDC/ACDC_FullconnE\") "
   ]
  },
  {
   "cell_type": "code",
   "execution_count": 3,
   "metadata": {},
   "outputs": [
    {
     "name": "stdout",
     "output_type": "stream",
     "text": [
      "38416\n"
     ]
    }
   ],
   "source": [
    "parameter_graph = ParameterGraph(network)\n",
    "print(parameter_graph.size())"
   ]
  },
  {
   "cell_type": "code",
   "execution_count": 4,
   "metadata": {},
   "outputs": [],
   "source": [
    "AP35 = {\"Hb\":[0,2], \"Gt\":2, \"Kr\":0, \"Kni\":0}\n",
    "AP37 = {\"Hb\":2, \"Gt\":[0,1], \"Kr\":0, \"Kni\":0}\n",
    "AP40 = {\"Hb\":2, \"Gt\":1, \"Kr\":[0,1], \"Kni\":0} #edit\n",
    "AP45 = {\"Hb\":[0,1], \"Gt\":1, \"Kr\":2, \"Kni\":0} #edit\n",
    "AP47 = {\"Hb\":[0,1], \"Gt\":0, \"Kr\":2, \"Kni\":0} \n",
    "AP51 = {\"Hb\":1, \"Gt\":0, \"Kr\":2, \"Kni\":[0,1]} #edit\n",
    "AP57 = {\"Hb\":1, \"Gt\":0, \"Kr\":[0,1], \"Kni\":2} #edit\n",
    "AP61 = {\"Hb\":0, \"Gt\":0, \"Kr\":[0,1], \"Kni\":2}\n",
    "AP63 = {\"Hb\":0, \"Gt\":[0,1], \"Kr\":1, \"Kni\":2} #edit\n",
    "AP67 = {\"Hb\":0, \"Gt\":2, \"Kr\":1, \"Kni\":[0,1]} #edit"
   ]
  },
  {
   "cell_type": "code",
   "execution_count": 5,
   "metadata": {},
   "outputs": [],
   "source": [
    "D = [[AP37], [AP40], [AP45], [AP47],[AP51], [AP57], [AP61], [AP63], [AP67]]\n",
    "paramslist = get_paramslist(database, D, '=')"
   ]
  },
  {
   "cell_type": "code",
   "execution_count": 6,
   "metadata": {
    "scrolled": false
   },
   "outputs": [
    {
     "name": "stdout",
     "output_type": "stream",
     "text": [
      "         330009 function calls (275181 primitive calls) in 0.265 seconds\n",
      "\n",
      "   Ordered by: standard name\n",
      "\n",
      "   ncalls  tottime  percall  cumtime  percall filename:lineno(function)\n",
      "        1    0.000    0.000    0.265    0.265 <string>:1(<module>)\n",
      "       45    0.000    0.000    0.000    0.000 FixedPointTables.py:12(FPString)\n",
      "       45    0.000    0.000    0.000    0.000 FixedPointTables.py:13(<listcomp>)\n",
      "        9    0.000    0.000    0.000    0.000 FixedPointTables.py:18(buildQueryExpression)\n",
      "       36    0.000    0.000    0.000    0.000 FixedPointTables.py:32(<listcomp>)\n",
      "        9    0.000    0.000    0.011    0.001 FixedPointTables.py:36(MatchQuery)\n",
      "       63    0.000    0.000    0.000    0.000 Logging.py:2(LogToSTDOUT)\n",
      "        9    0.000    0.000    0.000    0.000 NFixedPointQuery.py:14(__enter__)\n",
      "        9    0.000    0.000    0.000    0.000 NFixedPointQuery.py:18(__exit__)\n",
      "        9    0.000    0.000    0.015    0.002 NFixedPointQuery.py:24(__init__)\n",
      "        9    0.000    0.000    0.000    0.000 NFixedPointQuery.py:41(<listcomp>)\n",
      "        9    0.000    0.000    0.000    0.000 NFixedPointQuery.py:56(matches)\n",
      "       18    0.000    0.000    0.035    0.002 NstableQuery.py:13(__init__)\n",
      "       18    0.010    0.001    0.010    0.001 NstableQuery.py:17(<listcomp>)\n",
      "       18    0.000    0.000    0.000    0.000 NstableQuery.py:19(matches)\n",
      "        1    0.000    0.000    0.265    0.265 PhenotypeGraphFun.py:17(get_paramslist)\n",
      "        9    0.000    0.000    0.000    0.000 PhenotypeGraphFun.py:29(<listcomp>)\n",
      "        9    0.001    0.000    0.001    0.000 PhenotypeGraphFun.py:36(<listcomp>)\n",
      "        9    0.151    0.017    0.151    0.017 PhenotypeGraphFun.py:41(<listcomp>)\n",
      "        9    0.000    0.000    0.000    0.000 PhenotypeGraphFun.py:9(flatten)\n",
      "        9    0.000    0.000    0.000    0.000 _bootlocale.py:33(getpreferredencoding)\n",
      "        9    0.000    0.000    0.000    0.000 codecs.py:186(__init__)\n",
      "  54801/9    0.026    0.000    0.060    0.007 copy.py:132(deepcopy)\n",
      "    36504    0.002    0.000    0.002    0.000 copy.py:190(_deepcopy_atomic)\n",
      "     45/9    0.003    0.000    0.060    0.007 copy.py:210(_deepcopy_list)\n",
      "    18252    0.012    0.000    0.043    0.000 copy.py:219(_deepcopy_tuple)\n",
      "    18252    0.006    0.000    0.030    0.000 copy.py:220(<listcomp>)\n",
      "       45    0.000    0.000    0.000    0.000 copy.py:252(_keep_alive)\n",
      "        9    0.000    0.000    0.000    0.000 {built-in method _locale.nl_langinfo}\n",
      "        1    0.000    0.000    0.265    0.265 {built-in method builtins.exec}\n",
      "    73152    0.003    0.000    0.003    0.000 {built-in method builtins.id}\n",
      "       73    0.000    0.000    0.000    0.000 {built-in method builtins.len}\n",
      "       63    0.000    0.000    0.000    0.000 {built-in method builtins.print}\n",
      "        9    0.000    0.000    0.000    0.000 {built-in method io.open}\n",
      "       63    0.000    0.000    0.000    0.000 {built-in method now}\n",
      "    18369    0.001    0.000    0.001    0.000 {method 'append' of 'list' objects}\n",
      "        9    0.000    0.000    0.000    0.000 {method 'close' of '_io.TextIOWrapper' objects}\n",
      "        9    0.000    0.000    0.000    0.000 {method 'copy' of 'list' objects}\n",
      "       37    0.000    0.000    0.000    0.000 {method 'cursor' of 'sqlite3.Connection' objects}\n",
      "        9    0.000    0.000    0.000    0.000 {method 'difference' of 'set' objects}\n",
      "        1    0.000    0.000    0.000    0.000 {method 'disable' of '_lsprof.Profiler' objects}\n",
      "      162    0.040    0.000    0.040    0.000 {method 'execute' of 'sqlite3.Cursor' objects}\n",
      "       63    0.000    0.000    0.000    0.000 {method 'flush' of '_io.TextIOWrapper' objects}\n",
      "       27    0.000    0.000    0.000    0.000 {method 'format' of 'str' objects}\n",
      "   109602    0.006    0.000    0.006    0.000 {method 'get' of 'dict' objects}\n",
      "       90    0.000    0.000    0.000    0.000 {method 'join' of 'str' objects}\n",
      "\n",
      "\n"
     ]
    }
   ],
   "source": [
    "cProfile.runctx('get_paramslist(database, list_of_bounds, goe)', globals(), {'database':database,'list_of_bounds':D, 'goe':'='})"
   ]
  },
  {
   "cell_type": "code",
   "execution_count": 7,
   "metadata": {
    "scrolled": true
   },
   "outputs": [],
   "source": [
    "edges = get_phenotype_graph(database, paramslist)"
   ]
  },
  {
   "cell_type": "code",
   "execution_count": 6,
   "metadata": {},
   "outputs": [
    {
     "name": "stdout",
     "output_type": "stream",
     "text": [
      "         20974 function calls in 0.666 seconds\n",
      "\n",
      "   Ordered by: standard name\n",
      "\n",
      "   ncalls  tottime  percall  cumtime  percall filename:lineno(function)\n",
      "        1    0.001    0.001    0.669    0.669 <string>:1(<module>)\n",
      "        1    0.339    0.339    0.668    0.668 PhenotypeGraphFun.py:53(get_phenotype_graph)\n",
      "        8    0.000    0.000    0.000    0.000 PhenotypeGraphFun.py:72(<listcomp>)\n",
      "        1    0.000    0.000    0.000    0.000 PhenotypeGraphFun.py:74(<listcomp>)\n",
      "        9    0.000    0.000    0.000    0.000 PhenotypeGraphFun.py:76(<listcomp>)\n",
      "     5235    0.311    0.000    0.311    0.000 PhenotypeGraphFun.py:81(<listcomp>)\n",
      "     5235    0.005    0.000    0.005    0.000 PhenotypeGraphFun.py:86(<listcomp>)\n",
      "        1    0.000    0.000    0.000    0.000 PhenotypeGraphFun.py:9(flatten)\n",
      "        1    0.000    0.000    0.669    0.669 {built-in method builtins.exec}\n",
      "       10    0.000    0.000    0.000    0.000 {built-in method builtins.len}\n",
      "        1    0.000    0.000    0.000    0.000 {built-in method fromkeys}\n",
      "        1    0.000    0.000    0.000    0.000 {method 'disable' of '_lsprof.Profiler' objects}\n",
      "     5235    0.006    0.000    0.006    0.000 {method 'intersection' of 'set' objects}\n",
      "     5235    0.003    0.000    0.003    0.000 {method 'pop' of 'list' objects}\n",
      "\n",
      "\n"
     ]
    }
   ],
   "source": [
    "cProfile.runctx('get_phenotype_graph(database, paramslist)', globals(), {'database':database,'paramslist':paramslist})"
   ]
  },
  {
   "cell_type": "code",
   "execution_count": 9,
   "metadata": {},
   "outputs": [],
   "source": [
    "[a,b,c] = reduce(edges, paramslist)"
   ]
  },
  {
   "cell_type": "code",
   "execution_count": 10,
   "metadata": {},
   "outputs": [
    {
     "name": "stdout",
     "output_type": "stream",
     "text": [
      "         2600835 function calls (2185544 primitive calls) in 3.688 seconds\n",
      "\n",
      "   Ordered by: standard name\n",
      "\n",
      "   ncalls  tottime  percall  cumtime  percall filename:lineno(function)\n",
      "        1    0.001    0.001    3.688    3.688 <string>:1(<module>)\n",
      "        1    0.000    0.000    0.000    0.000 PhenotypeGraphFun.py:9(flatten)\n",
      "        9    0.001    0.000    0.001    0.000 ReducePhenotypeGraph.py:114(<listcomp>)\n",
      "        9    0.214    0.024    0.214    0.024 ReducePhenotypeGraph.py:115(<listcomp>)\n",
      "    38003    0.008    0.000    0.010    0.000 ReducePhenotypeGraph.py:13(add_edge)\n",
      "        1    0.006    0.006    0.007    0.007 ReducePhenotypeGraph.py:17(add_edges)\n",
      "  5235/18    0.004    0.000    0.004    0.000 ReducePhenotypeGraph.py:24(dfs)\n",
      "   5235/8    0.005    0.000    0.005    0.001 ReducePhenotypeGraph.py:32(fill_order)\n",
      "        1    0.005    0.005    0.015    0.015 ReducePhenotypeGraph.py:42(transpose)\n",
      "        1    0.002    0.002    0.333    0.333 ReducePhenotypeGraph.py:51(scc)\n",
      "        2    0.000    0.000    0.000    0.000 ReducePhenotypeGraph.py:7(__init__)\n",
      "        1    2.967    2.967    3.687    3.687 ReducePhenotypeGraph.py:84(reduce)\n",
      "        1    0.000    0.000    0.000    0.000 ReducePhenotypeGraph.py:91(<listcomp>)\n",
      " 404850/3    0.202    0.000    0.470    0.157 copy.py:132(deepcopy)\n",
      "   259428    0.013    0.000    0.013    0.000 copy.py:190(_deepcopy_atomic)\n",
      "    15705    0.028    0.000    0.392    0.000 copy.py:210(_deepcopy_list)\n",
      "   129714    0.092    0.000    0.315    0.000 copy.py:219(_deepcopy_tuple)\n",
      "   129714    0.041    0.000    0.216    0.000 copy.py:220(<listcomp>)\n",
      "        3    0.006    0.002    0.470    0.157 copy.py:236(_deepcopy_dict)\n",
      "    15708    0.005    0.000    0.006    0.000 copy.py:252(_keep_alive)\n",
      "        1    0.000    0.000    3.688    3.688 {built-in method builtins.exec}\n",
      "   565983    0.026    0.000    0.026    0.000 {built-in method builtins.id}\n",
      "       36    0.000    0.000    0.000    0.000 {built-in method builtins.len}\n",
      "        1    0.000    0.000    0.000    0.000 {built-in method builtins.max}\n",
      "       18    0.001    0.000    0.001    0.000 {built-in method fromkeys}\n",
      "   216217    0.011    0.000    0.011    0.000 {method 'append' of 'list' objects}\n",
      "        1    0.000    0.000    0.000    0.000 {method 'disable' of '_lsprof.Profiler' objects}\n",
      "   809700    0.049    0.000    0.049    0.000 {method 'get' of 'dict' objects}\n",
      "        3    0.000    0.000    0.000    0.000 {method 'items' of 'dict' objects}\n",
      "     5235    0.000    0.000    0.000    0.000 {method 'pop' of 'list' objects}\n",
      "       18    0.000    0.000    0.000    0.000 {method 'remove' of 'list' objects}\n",
      "\n",
      "\n"
     ]
    }
   ],
   "source": [
    "cProfile.runctx('reduce(edges, paramslist)', globals(), {'edges':edges,'paramslist':paramslist})"
   ]
  }
 ],
 "metadata": {
  "kernelspec": {
   "display_name": "Python 3",
   "language": "python",
   "name": "python3"
  },
  "language_info": {
   "codemirror_mode": {
    "name": "ipython",
    "version": 3
   },
   "file_extension": ".py",
   "mimetype": "text/x-python",
   "name": "python",
   "nbconvert_exporter": "python",
   "pygments_lexer": "ipython3",
   "version": "3.7.6"
  }
 },
 "nbformat": 4,
 "nbformat_minor": 4
}
