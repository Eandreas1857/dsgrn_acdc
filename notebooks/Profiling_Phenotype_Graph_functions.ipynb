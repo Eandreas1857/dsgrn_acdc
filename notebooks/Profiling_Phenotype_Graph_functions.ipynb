{
 "cells": [
  {
   "cell_type": "code",
   "execution_count": 1,
   "metadata": {},
   "outputs": [],
   "source": [
    "import DSGRN\n",
    "import cProfile\n",
    "import sys\n",
    "sys.setrecursionlimit(10**8)\n",
    "sys.path.insert(0,'../src')\n",
    "\n",
    "# please don't use from ... import *\n",
    "# it makes reading code very hard for someone else\n",
    "import PhenotypeGraphFun as PGF\n",
    "import CondensationGraph_iter as CG\n",
    "import ReducePhenotypeGraph as RPG"
   ]
  },
  {
   "cell_type": "code",
   "execution_count": 2,
   "metadata": {},
   "outputs": [],
   "source": [
    "database = DSGRN.Database(\"../networks/ACDC_FullconnE.db\") \n",
    "network = database.network"
   ]
  },
  {
   "cell_type": "code",
   "execution_count": 3,
   "metadata": {},
   "outputs": [
    {
     "name": "stdout",
     "output_type": "stream",
     "text": [
      "38416\n"
     ]
    }
   ],
   "source": [
    "parameter_graph = DSGRN.ParameterGraph(network)\n",
    "print(parameter_graph.size())"
   ]
  },
  {
   "cell_type": "code",
   "execution_count": 4,
   "metadata": {},
   "outputs": [],
   "source": [
    "AP35 = {\"Hb\":[0,2], \"Gt\":2, \"Kr\":0, \"Kni\":0}\n",
    "AP37 = {\"Hb\":2, \"Gt\":[0,1], \"Kr\":0, \"Kni\":0}\n",
    "AP40 = {\"Hb\":2, \"Gt\":1, \"Kr\":[0,1], \"Kni\":0} #edit\n",
    "AP45 = {\"Hb\":[0,1], \"Gt\":1, \"Kr\":2, \"Kni\":0} #edit\n",
    "AP47 = {\"Hb\":[0,1], \"Gt\":0, \"Kr\":2, \"Kni\":0} \n",
    "AP51 = {\"Hb\":1, \"Gt\":0, \"Kr\":2, \"Kni\":[0,1]} #edit\n",
    "AP57 = {\"Hb\":1, \"Gt\":0, \"Kr\":[0,1], \"Kni\":2} #edit\n",
    "AP61 = {\"Hb\":0, \"Gt\":0, \"Kr\":[0,1], \"Kni\":2}\n",
    "AP63 = {\"Hb\":0, \"Gt\":[0,1], \"Kr\":1, \"Kni\":2} #edit\n",
    "AP67 = {\"Hb\":0, \"Gt\":2, \"Kr\":1, \"Kni\":[0,1]} #edit"
   ]
  },
  {
   "cell_type": "code",
   "execution_count": 5,
   "metadata": {},
   "outputs": [],
   "source": [
    "D = [[AP37], [AP40], [AP45], [AP47],[AP51], [AP57], [AP61], [AP63], [AP67]]\n",
    "paramslist = PGF.get_paramslist_optimized(database, D, '=')"
   ]
  },
  {
   "cell_type": "code",
   "execution_count": 6,
   "metadata": {
    "scrolled": false
   },
   "outputs": [],
   "source": [
    "# cProfile.runctx('get_paramslist(database, list_of_bounds, goe)', globals(), locals())"
   ]
  },
  {
   "cell_type": "code",
   "execution_count": 7,
   "metadata": {
    "scrolled": true
   },
   "outputs": [],
   "source": [
    "edges = PGF.get_phenotype_graph_optimized(database, paramslist)"
   ]
  },
  {
   "cell_type": "code",
   "execution_count": 8,
   "metadata": {},
   "outputs": [],
   "source": [
    "# cProfile.runctx('get_phenotype_graph(database, paramslist)', globals(), locals())"
   ]
  },
  {
   "cell_type": "code",
   "execution_count": 9,
   "metadata": {},
   "outputs": [],
   "source": [
    "# [a,b,c] = RPG.reduce(edges, paramslist)\n",
    "cg,rpl,scc = CG.condensation_graph_optimized(edges)"
   ]
  },
  {
   "cell_type": "code",
   "execution_count": 10,
   "metadata": {},
   "outputs": [
    {
     "name": "stdout",
     "output_type": "stream",
     "text": [
      "         103907 function calls in 0.109 seconds\n",
      "\n",
      "   Ordered by: standard name\n",
      "\n",
      "   ncalls  tottime  percall  cumtime  percall filename:lineno(function)\n",
      "        1    0.000    0.000    0.109    0.109 <string>:1(<module>)\n",
      "        1    0.008    0.008    0.109    0.109 CondensationGraph_iter.py:101(condensation_graph_optimized)\n",
      "     5271    0.000    0.000    0.000    0.000 CondensationGraph_iter.py:108(<lambda>)\n",
      "        1    0.001    0.001    0.002    0.002 CondensationGraph_iter.py:109(<listcomp>)\n",
      "        9    0.004    0.000    0.012    0.001 CondensationGraph_iter.py:115(<dictcomp>)\n",
      "     5235    0.008    0.000    0.008    0.000 CondensationGraph_iter.py:115(<listcomp>)\n",
      "        9    0.000    0.000    0.041    0.005 CondensationGraph_iter.py:116(<listcomp>)\n",
      "        1    0.000    0.000    0.000    0.000 CondensationGraph_iter.py:140(<listcomp>)\n",
      "       27    0.028    0.001    0.039    0.001 CondensationGraph_iter.py:4(stronglycc_iterative)\n",
      "     5235    0.005    0.000    0.005    0.000 CondensationGraph_iter.py:54(<listcomp>)\n",
      "        1    0.000    0.000    0.109    0.109 {built-in method builtins.exec}\n",
      "     5244    0.000    0.000    0.000    0.000 {built-in method builtins.len}\n",
      "       38    0.002    0.000    0.002    0.000 {built-in method builtins.sorted}\n",
      "    20936    0.001    0.000    0.001    0.000 {method 'append' of 'list' objects}\n",
      "        1    0.000    0.000    0.000    0.000 {method 'disable' of '_lsprof.Profiler' objects}\n",
      "     5235    0.001    0.000    0.001    0.000 {method 'extend' of 'list' objects}\n",
      "     8880    0.047    0.000    0.047    0.000 {method 'intersection' of 'set' objects}\n",
      "        1    0.000    0.000    0.000    0.000 {method 'items' of 'dict' objects}\n",
      "    47763    0.003    0.000    0.003    0.000 {method 'pop' of 'list' objects}\n",
      "       18    0.000    0.000    0.000    0.000 {method 'update' of 'set' objects}\n",
      "\n",
      "\n"
     ]
    }
   ],
   "source": [
    "cProfile.runctx('CG.condensation_graph_optimized(edges)', globals(), locals())"
   ]
  },
  {
   "cell_type": "code",
   "execution_count": 11,
   "metadata": {},
   "outputs": [
    {
     "name": "stdout",
     "output_type": "stream",
     "text": [
      "{(0, 14): [(1, 14)], (0, 18): [(1, 18)], (1, 14): [], (1, 18): [], (2, 2655): [(3, 2403), (3, 2648)], (2, 4809): [(3, 2403), (3, 2648)], (3, 2403): [(4, 2403)], (3, 2648): [(4, 2648)], (4, 2403): [], (4, 2648): [], (5, 1): [(6, 9653), (6, 30576)], (5, 13770): [(6, 9653), (6, 30576)], (6, 9653): [(7, 9653)], (6, 30576): [(7, 30576)], (7, 9653): [], (7, 30576): [], (8, 98): [], (8, 10073): []}\n"
     ]
    }
   ],
   "source": [
    "print(cg)"
   ]
  },
  {
   "cell_type": "code",
   "execution_count": 12,
   "metadata": {},
   "outputs": [],
   "source": [
    "#test case\n",
    "paramslist = [[(0, 1), (0, 3), (0, 5)],[(1, 0), (1, 2), (1, 4), (1, 6), (1, 7), (1, 8), (1, 12), (1, 13)],[(2, 9), (2, 10), (2, 11)]]\n",
    "\n",
    "edges = {(0, 1): [(1, 0), (0, 3)],(0, 3): [(1, 2), (0, 5), (0, 1), (1, 4)],(0, 5): [(0, 3), (1, 6)],(1, 0): [(1, 2), (1, 7)],(1, 2): [(1, 0)],(1, 4): [(1, 6)],(1, 6): [(1, 13), (1, 4)],(1, 7): [(1, 0), (2, 9), (1, 8)],(1, 8): [(1, 7), (2, 10)],(1, 12): [(1, 13), (2, 10)],(1, 13): [(2, 11), (1, 6), (1, 12)],(2, 9): [(2, 10)],(2, 10): [(2, 11), (2, 9)],(2, 11): [(2, 10)]}\n",
    "\n",
    "condensation = {(2, 9): [], (1, 0): [(2, 9)], (1, 6): [(2, 9)], (0, 1): [(1, 0), (1, 6)]}\n",
    "\n",
    "stronglycc = [[(2, 9), (2, 10), (2, 11)],[(1, 0), (1, 2), (1, 7), (1, 8)],[(1, 6), (1, 13), (1, 12), (1, 4)],[(0, 1), (0, 3), (0, 5)]]\n",
    "\n",
    "reduced_paramslist = [[(0, 1)], [(1, 0), (1, 6)], [(2, 9)]]"
   ]
  },
  {
   "cell_type": "code",
   "execution_count": 13,
   "metadata": {},
   "outputs": [
    {
     "name": "stdout",
     "output_type": "stream",
     "text": [
      "{(0, 1): [(1, 0), (1, 4)], (1, 0): [(2, 9)], (1, 4): [(2, 9)], (2, 9): []}\n"
     ]
    }
   ],
   "source": [
    "cg,rpl,scc = CG.condensation_graph_optimized(edges)\n",
    "cg == condensation\n",
    "print(cg)"
   ]
  },
  {
   "cell_type": "code",
   "execution_count": 14,
   "metadata": {},
   "outputs": [
    {
     "name": "stdout",
     "output_type": "stream",
     "text": [
      "[[(0, 1)], [(1, 0), (1, 4)], [(2, 9)]]\n"
     ]
    }
   ],
   "source": [
    "rpl == reduced_paramslist\n",
    "print(rpl)"
   ]
  },
  {
   "cell_type": "code",
   "execution_count": 15,
   "metadata": {},
   "outputs": [
    {
     "name": "stdout",
     "output_type": "stream",
     "text": [
      "{0: [[(0, 1), (0, 3), (0, 5)]], 1: [[(1, 0), (1, 2), (1, 7), (1, 8)], [(1, 4), (1, 6), (1, 12), (1, 13)]], 2: [[(2, 9), (2, 10), (2, 11)]]}\n"
     ]
    }
   ],
   "source": [
    "scc == stronglycc\n",
    "print(scc)"
   ]
  },
  {
   "cell_type": "code",
   "execution_count": null,
   "metadata": {},
   "outputs": [],
   "source": []
  }
 ],
 "metadata": {
  "kernelspec": {
   "display_name": "Python 3",
   "language": "python",
   "name": "python3"
  },
  "language_info": {
   "codemirror_mode": {
    "name": "ipython",
    "version": 3
   },
   "file_extension": ".py",
   "mimetype": "text/x-python",
   "name": "python",
   "nbconvert_exporter": "python",
   "pygments_lexer": "ipython3",
   "version": "3.7.3"
  }
 },
 "nbformat": 4,
 "nbformat_minor": 4
}
